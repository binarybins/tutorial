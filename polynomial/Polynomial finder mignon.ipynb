{
 "cells": [
  {
   "cell_type": "code",
   "execution_count": 61,
   "id": "558c60c3",
   "metadata": {},
   "outputs": [
    {
     "data": {
      "text/plain": [
       "-9.776372440484238e-07"
      ]
     },
     "execution_count": 61,
     "metadata": {},
     "output_type": "execute_result"
    }
   ],
   "source": [
    "model.intercept_"
   ]
  },
  {
   "cell_type": "code",
   "execution_count": 17,
   "id": "6ab116b7",
   "metadata": {
    "scrolled": true
   },
   "outputs": [
    {
     "data": {
      "text/plain": [
       "array([ 1.67206452e+01,  7.55382669e+00,  6.35533765e+00,  1.36942633e+01,\n",
       "        5.28861002e+00,  4.36117718e+00,  5.80509021e+00,  1.46457190e+01,\n",
       "        8.20106365e+00,  6.93846815e+00,  1.56522153e+01,  4.80693431e+00,\n",
       "       -9.77637244e-07,  1.27920219e+01,  1.03367285e+01])"
      ]
     },
     "execution_count": 17,
     "metadata": {},
     "output_type": "execute_result"
    }
   ],
   "source": [
    "y_train_pred"
   ]
  },
  {
   "cell_type": "markdown",
   "id": "2dc06320",
   "metadata": {},
   "source": [
    "model.intercept_ missing"
   ]
  },
  {
   "cell_type": "code",
   "execution_count": 60,
   "id": "b5cf62e4",
   "metadata": {},
   "outputs": [
    {
     "data": {
      "text/plain": [
       "0.7652601155733102"
      ]
     },
     "execution_count": 60,
     "metadata": {},
     "output_type": "execute_result"
    }
   ],
   "source": [
    "coeffs[0]"
   ]
  },
  {
   "cell_type": "code",
   "execution_count": 62,
   "id": "1bad4c25",
   "metadata": {},
   "outputs": [
    {
     "data": {
      "text/plain": [
       "'Y = -0.0000X'"
      ]
     },
     "execution_count": 62,
     "metadata": {},
     "output_type": "execute_result"
    }
   ],
   "source": [
    "f\"Y = {model.intercept_:.4f}X\""
   ]
  },
  {
   "cell_type": "code",
   "execution_count": 66,
   "id": "5ad5c1d0",
   "metadata": {},
   "outputs": [
    {
     "name": "stdout",
     "output_type": "stream",
     "text": [
      "Polynomial degree: 1, Train MSE: 4.5090, Test MSE: 5.9933\n",
      "Y = -4.26592 + 0.4133X\n",
      "Polynomial degree: 2, Train MSE: 0.0137, Test MSE: 0.0792\n",
      "Y = 0.03157 + -0.1836X + 0.01317572X^2\n",
      "Polynomial degree: 3, Train MSE: 0.0011, Test MSE: 0.0024\n",
      "Y = -0.00037 + -0.0009X + 0.00257551X^2 + 0.00015049X^3\n",
      "Polynomial degree: 4, Train MSE: 0.0010, Test MSE: 0.0032\n",
      "Y = 0.00005 + -0.1120X + 0.01244287X^2 + -0.00013763X^3 + 0.00000277X^4\n",
      "Polynomial degree: 5, Train MSE: 0.0009, Test MSE: 0.0077\n",
      "Y = -0.00000 + 0.7653X + -0.09154462X^2 + 0.00443509X^3 + -0.00008566X^4 + 0.00000063X^5\n"
     ]
    },
    {
     "data": {
      "image/png": "[encoded data removed]",
      "text/plain": [
       "<Figure size 640x480 with 1 Axes>"
      ]
     },
     "metadata": {},
     "output_type": "display_data"
    }
   ],
   "source": [
    "from sklearn.model_selection import cross_val_score\n",
    "from sklearn.metrics import mean_squared_error\n",
    "from sklearn.model_selection import train_test_split\n",
    "from sklearn.preprocessing import PolynomialFeatures\n",
    "from sklearn.linear_model import LinearRegression\n",
    "import numpy as np\n",
    "import pandas as pd\n",
    "\n",
    "# Load the dataset\n",
    "df = pd.read_csv(\"ahu11.csv\")\n",
    "\n",
    "# Split the data into training and test sets\n",
    "X_train, X_test, y_train, y_test = train_test_split(df['X'], df['Y'], test_size=0.3, random_state=0)\n",
    "X = df['X'].values\n",
    "\n",
    "# Create a list of polynomial degrees to try\n",
    "degrees = [1, 2, 3, 4, 5]\n",
    "\n",
    "# Create empty lists to store the mean squared errors\n",
    "train_errors = []\n",
    "test_errors = []\n",
    "\n",
    "# Create a dictionary to store the polynomial equations and predicted Y values for each degree\n",
    "poly_eq_dict = {'X': df['X'].values,\n",
    "                'real_Y': df['Y'].values}\n",
    "\n",
    "# Loop over the degrees and fit a polynomial regression model for each degree\n",
    "for degree in degrees:\n",
    "    # Create polynomial features\n",
    "    poly_transform = PolynomialFeatures(degree=degree, include_bias=False)\n",
    "    X_poly_train = poly_transform.fit_transform(X_train.values.reshape(-1, 1))\n",
    "    X_poly_test = poly_transform.transform(X_test.values.reshape(-1, 1))\n",
    "\n",
    "    # Fit a linear regression model\n",
    "    model = LinearRegression().fit(X_poly_train, y_train)\n",
    "\n",
    "    # Evaluate the model on the training set\n",
    "    y_train_pred = model.predict(X_poly_train)\n",
    "    train_error = mean_squared_error(y_train, y_train_pred)\n",
    "    train_errors.append(train_error)\n",
    "\n",
    "    # Evaluate the model on the test set\n",
    "    y_test_pred = model.predict(X_poly_test)\n",
    "    test_error = mean_squared_error(y_test, y_test_pred)\n",
    "    test_errors.append(test_error)\n",
    "\n",
    "    # Print the MSE for the current model\n",
    "    print(f\"Polynomial degree: {degree}, Train MSE: {train_error:.4f}, Test MSE: {test_error:.4f}\")\n",
    "\n",
    "    # Print the polynomial equation for the current model\n",
    "    coeffs = model.coef_\n",
    "    eqn = f\"Y = {model.intercept_:.5f} + {coeffs[0]:.4f}X\"\n",
    "    for i in range(1, len(coeffs)):\n",
    "        eqn += f\" + {coeffs[i]:.8f}X^{i+1}\"\n",
    "    print(eqn)\n",
    "    \n",
    "    poly_eq_dict[f\"Degree_{degree}_Y\"] = model.predict(poly_transform.fit_transform(df['X'].values.reshape(-1, 1)))\n",
    "# Plot the MSEs for each polynomial degree\n",
    "import matplotlib.pyplot as plt\n",
    "plt.plot(degrees, train_errors, label='train')\n",
    "plt.plot(degrees, test_errors, label='test')\n",
    "plt.xlabel('Polynomial Degree')\n",
    "plt.ylabel('Mean Squared Error')\n",
    "plt.legend()\n",
    "plt.show()"
   ]
  },
  {
   "cell_type": "code",
   "execution_count": 49,
   "id": "163e7354",
   "metadata": {},
   "outputs": [
    {
     "data": {
      "text/plain": [
       "'Y = 0.4133'"
      ]
     },
     "execution_count": 49,
     "metadata": {},
     "output_type": "execute_result"
    }
   ],
   "source": [
    "f\"Y = {coeffs[0]:.4f}\""
   ]
  },
  {
   "cell_type": "code",
   "execution_count": 54,
   "id": "be6aaf2a",
   "metadata": {},
   "outputs": [
    {
     "ename": "SyntaxError",
     "evalue": "invalid syntax (375154652.py, line 1)",
     "output_type": "error",
     "traceback": [
      "\u001b[1;36m  Cell \u001b[1;32mIn[54], line 1\u001b[1;36m\u001b[0m\n\u001b[1;33m    {intercept:.4f}\u001b[0m\n\u001b[1;37m                 ^\u001b[0m\n\u001b[1;31mSyntaxError\u001b[0m\u001b[1;31m:\u001b[0m invalid syntax\n"
     ]
    }
   ],
   "source": [
    "{intercept:.4f}"
   ]
  },
  {
   "cell_type": "code",
   "execution_count": 45,
   "id": "e329a079",
   "metadata": {},
   "outputs": [
    {
     "data": {
      "text/html": [
       "<div>\n",
       "<style scoped>\n",
       "    .dataframe tbody tr th:only-of-type {\n",
       "        vertical-align: middle;\n",
       "    }\n",
       "\n",
       "    .dataframe tbody tr th {\n",
       "        vertical-align: top;\n",
       "    }\n",
       "\n",
       "    .dataframe thead th {\n",
       "        text-align: right;\n",
       "    }\n",
       "</style>\n",
       "<table border=\"1\" class=\"dataframe\">\n",
       "  <thead>\n",
       "    <tr style=\"text-align: right;\">\n",
       "      <th></th>\n",
       "      <th>X</th>\n",
       "      <th>real_Y</th>\n",
       "      <th>Degree_1_Y</th>\n",
       "      <th>Degree_2_Y</th>\n",
       "      <th>Degree_3_Y</th>\n",
       "      <th>Degree_4_Y</th>\n",
       "      <th>Degree_5_Y</th>\n",
       "    </tr>\n",
       "  </thead>\n",
       "  <tbody>\n",
       "    <tr>\n",
       "      <th>0</th>\n",
       "      <td>0</td>\n",
       "      <td>0.000</td>\n",
       "      <td>-4.266</td>\n",
       "      <td>0.032</td>\n",
       "      <td>-0.000</td>\n",
       "      <td>0.000</td>\n",
       "      <td>-0.000</td>\n",
       "    </tr>\n",
       "    <tr>\n",
       "      <th>1</th>\n",
       "      <td>25</td>\n",
       "      <td>3.984</td>\n",
       "      <td>6.066</td>\n",
       "      <td>3.678</td>\n",
       "      <td>3.938</td>\n",
       "      <td>3.907</td>\n",
       "      <td>3.952</td>\n",
       "    </tr>\n",
       "    <tr>\n",
       "      <th>2</th>\n",
       "      <td>26</td>\n",
       "      <td>4.351</td>\n",
       "      <td>6.480</td>\n",
       "      <td>4.166</td>\n",
       "      <td>4.363</td>\n",
       "      <td>4.345</td>\n",
       "      <td>4.361</td>\n",
       "    </tr>\n",
       "    <tr>\n",
       "      <th>3</th>\n",
       "      <td>27</td>\n",
       "      <td>4.809</td>\n",
       "      <td>6.893</td>\n",
       "      <td>4.681</td>\n",
       "      <td>4.815</td>\n",
       "      <td>4.809</td>\n",
       "      <td>4.807</td>\n",
       "    </tr>\n",
       "    <tr>\n",
       "      <th>4</th>\n",
       "      <td>28</td>\n",
       "      <td>5.324</td>\n",
       "      <td>7.306</td>\n",
       "      <td>5.222</td>\n",
       "      <td>5.297</td>\n",
       "      <td>5.299</td>\n",
       "      <td>5.289</td>\n",
       "    </tr>\n",
       "    <tr>\n",
       "      <th>5</th>\n",
       "      <td>29</td>\n",
       "      <td>5.796</td>\n",
       "      <td>7.720</td>\n",
       "      <td>5.789</td>\n",
       "      <td>5.810</td>\n",
       "      <td>5.817</td>\n",
       "      <td>5.805</td>\n",
       "    </tr>\n",
       "    <tr>\n",
       "      <th>6</th>\n",
       "      <td>30</td>\n",
       "      <td>6.320</td>\n",
       "      <td>8.133</td>\n",
       "      <td>6.383</td>\n",
       "      <td>6.354</td>\n",
       "      <td>6.364</td>\n",
       "      <td>6.355</td>\n",
       "    </tr>\n",
       "    <tr>\n",
       "      <th>7</th>\n",
       "      <td>31</td>\n",
       "      <td>6.961</td>\n",
       "      <td>8.546</td>\n",
       "      <td>7.003</td>\n",
       "      <td>6.930</td>\n",
       "      <td>6.941</td>\n",
       "      <td>6.938</td>\n",
       "    </tr>\n",
       "    <tr>\n",
       "      <th>8</th>\n",
       "      <td>32</td>\n",
       "      <td>7.544</td>\n",
       "      <td>8.959</td>\n",
       "      <td>7.650</td>\n",
       "      <td>7.540</td>\n",
       "      <td>7.549</td>\n",
       "      <td>7.554</td>\n",
       "    </tr>\n",
       "    <tr>\n",
       "      <th>9</th>\n",
       "      <td>33</td>\n",
       "      <td>8.185</td>\n",
       "      <td>9.373</td>\n",
       "      <td>8.323</td>\n",
       "      <td>8.183</td>\n",
       "      <td>8.190</td>\n",
       "      <td>8.201</td>\n",
       "    </tr>\n",
       "    <tr>\n",
       "      <th>10</th>\n",
       "      <td>34</td>\n",
       "      <td>8.849</td>\n",
       "      <td>9.786</td>\n",
       "      <td>9.022</td>\n",
       "      <td>8.862</td>\n",
       "      <td>8.864</td>\n",
       "      <td>8.880</td>\n",
       "    </tr>\n",
       "    <tr>\n",
       "      <th>11</th>\n",
       "      <td>35</td>\n",
       "      <td>9.555</td>\n",
       "      <td>10.199</td>\n",
       "      <td>9.748</td>\n",
       "      <td>9.576</td>\n",
       "      <td>9.574</td>\n",
       "      <td>9.592</td>\n",
       "    </tr>\n",
       "    <tr>\n",
       "      <th>12</th>\n",
       "      <td>36</td>\n",
       "      <td>10.392</td>\n",
       "      <td>10.613</td>\n",
       "      <td>10.499</td>\n",
       "      <td>10.327</td>\n",
       "      <td>10.320</td>\n",
       "      <td>10.337</td>\n",
       "    </tr>\n",
       "    <tr>\n",
       "      <th>13</th>\n",
       "      <td>37</td>\n",
       "      <td>11.042</td>\n",
       "      <td>11.026</td>\n",
       "      <td>11.278</td>\n",
       "      <td>11.115</td>\n",
       "      <td>11.104</td>\n",
       "      <td>11.117</td>\n",
       "    </tr>\n",
       "    <tr>\n",
       "      <th>14</th>\n",
       "      <td>38</td>\n",
       "      <td>11.964</td>\n",
       "      <td>11.439</td>\n",
       "      <td>12.082</td>\n",
       "      <td>11.943</td>\n",
       "      <td>11.929</td>\n",
       "      <td>11.934</td>\n",
       "    </tr>\n",
       "    <tr>\n",
       "      <th>15</th>\n",
       "      <td>39</td>\n",
       "      <td>12.724</td>\n",
       "      <td>11.853</td>\n",
       "      <td>12.913</td>\n",
       "      <td>12.809</td>\n",
       "      <td>12.794</td>\n",
       "      <td>12.792</td>\n",
       "    </tr>\n",
       "    <tr>\n",
       "      <th>16</th>\n",
       "      <td>40</td>\n",
       "      <td>13.692</td>\n",
       "      <td>12.266</td>\n",
       "      <td>13.771</td>\n",
       "      <td>13.716</td>\n",
       "      <td>13.703</td>\n",
       "      <td>13.694</td>\n",
       "    </tr>\n",
       "    <tr>\n",
       "      <th>17</th>\n",
       "      <td>41</td>\n",
       "      <td>14.681</td>\n",
       "      <td>12.679</td>\n",
       "      <td>14.654</td>\n",
       "      <td>14.664</td>\n",
       "      <td>14.657</td>\n",
       "      <td>14.646</td>\n",
       "    </tr>\n",
       "    <tr>\n",
       "      <th>18</th>\n",
       "      <td>42</td>\n",
       "      <td>15.668</td>\n",
       "      <td>13.092</td>\n",
       "      <td>15.564</td>\n",
       "      <td>15.655</td>\n",
       "      <td>15.658</td>\n",
       "      <td>15.652</td>\n",
       "    </tr>\n",
       "    <tr>\n",
       "      <th>19</th>\n",
       "      <td>43</td>\n",
       "      <td>16.705</td>\n",
       "      <td>13.506</td>\n",
       "      <td>16.501</td>\n",
       "      <td>16.688</td>\n",
       "      <td>16.707</td>\n",
       "      <td>16.721</td>\n",
       "    </tr>\n",
       "    <tr>\n",
       "      <th>20</th>\n",
       "      <td>44</td>\n",
       "      <td>17.854</td>\n",
       "      <td>13.919</td>\n",
       "      <td>17.464</td>\n",
       "      <td>17.766</td>\n",
       "      <td>17.807</td>\n",
       "      <td>17.859</td>\n",
       "    </tr>\n",
       "    <tr>\n",
       "      <th>21</th>\n",
       "      <td>45</td>\n",
       "      <td>18.867</td>\n",
       "      <td>14.332</td>\n",
       "      <td>18.453</td>\n",
       "      <td>18.888</td>\n",
       "      <td>18.960</td>\n",
       "      <td>19.077</td>\n",
       "    </tr>\n",
       "  </tbody>\n",
       "</table>\n",
       "</div>"
      ],
      "text/plain": [
       "     X  real_Y  Degree_1_Y  Degree_2_Y  Degree_3_Y  Degree_4_Y  Degree_5_Y\n",
       "0    0   0.000      -4.266       0.032      -0.000       0.000      -0.000\n",
       "1   25   3.984       6.066       3.678       3.938       3.907       3.952\n",
       "2   26   4.351       6.480       4.166       4.363       4.345       4.361\n",
       "3   27   4.809       6.893       4.681       4.815       4.809       4.807\n",
       "4   28   5.324       7.306       5.222       5.297       5.299       5.289\n",
       "5   29   5.796       7.720       5.789       5.810       5.817       5.805\n",
       "6   30   6.320       8.133       6.383       6.354       6.364       6.355\n",
       "7   31   6.961       8.546       7.003       6.930       6.941       6.938\n",
       "8   32   7.544       8.959       7.650       7.540       7.549       7.554\n",
       "9   33   8.185       9.373       8.323       8.183       8.190       8.201\n",
       "10  34   8.849       9.786       9.022       8.862       8.864       8.880\n",
       "11  35   9.555      10.199       9.748       9.576       9.574       9.592\n",
       "12  36  10.392      10.613      10.499      10.327      10.320      10.337\n",
       "13  37  11.042      11.026      11.278      11.115      11.104      11.117\n",
       "14  38  11.964      11.439      12.082      11.943      11.929      11.934\n",
       "15  39  12.724      11.853      12.913      12.809      12.794      12.792\n",
       "16  40  13.692      12.266      13.771      13.716      13.703      13.694\n",
       "17  41  14.681      12.679      14.654      14.664      14.657      14.646\n",
       "18  42  15.668      13.092      15.564      15.655      15.658      15.652\n",
       "19  43  16.705      13.506      16.501      16.688      16.707      16.721\n",
       "20  44  17.854      13.919      17.464      17.766      17.807      17.859\n",
       "21  45  18.867      14.332      18.453      18.888      18.960      19.077"
      ]
     },
     "execution_count": 45,
     "metadata": {},
     "output_type": "execute_result"
    }
   ],
   "source": [
    "poly_df = pd.DataFrame.from_dict(poly_eq_dict)\n",
    "poly_df = poly_df.round(decimals=3)\n",
    "poly_df"
   ]
  },
  {
   "cell_type": "code",
   "execution_count": 42,
   "id": "de8d0991",
   "metadata": {},
   "outputs": [
    {
     "name": "stdout",
     "output_type": "stream",
     "text": [
      "<class 'pandas.core.frame.DataFrame'>\n",
      "RangeIndex: 22 entries, 0 to 21\n",
      "Data columns (total 7 columns):\n",
      " #   Column      Non-Null Count  Dtype  \n",
      "---  ------      --------------  -----  \n",
      " 0   X           22 non-null     int64  \n",
      " 1   real_Y      22 non-null     float64\n",
      " 2   Degree_1_Y  22 non-null     float64\n",
      " 3   Degree_2_Y  22 non-null     float64\n",
      " 4   Degree_3_Y  22 non-null     float64\n",
      " 5   Degree_4_Y  22 non-null     float64\n",
      " 6   Degree_5_Y  22 non-null     float64\n",
      "dtypes: float64(6), int64(1)\n",
      "memory usage: 1.3 KB\n"
     ]
    }
   ],
   "source": [
    "poly_df.info()"
   ]
  }
 ],
 "metadata": {
  "kernelspec": {
   "display_name": "blearn",
   "language": "python",
   "name": "blearn"
  },
  "language_info": {
   "codemirror_mode": {
    "name": "ipython",
    "version": 3
   },
   "file_extension": ".py",
   "mimetype": "text/x-python",
   "name": "python",
   "nbconvert_exporter": "python",
   "pygments_lexer": "ipython3",
   "version": "3.8.16"
  },
  "toc": {
   "base_numbering": 1,
   "nav_menu": {},
   "number_sections": true,
   "sideBar": true,
   "skip_h1_title": false,
   "title_cell": "Table of Contents",
   "title_sidebar": "Contents",
   "toc_cell": false,
   "toc_position": {},
   "toc_section_display": true,
   "toc_window_display": false
  }
 },
 "nbformat": 4,
 "nbformat_minor": 5
}
